{
 "cells": [
  {
   "cell_type": "markdown",
   "id": "dea7ace4",
   "metadata": {},
   "source": [
    "### Create new conda environment"
   ]
  },
  {
   "cell_type": "raw",
   "id": "6df3ea13",
   "metadata": {},
   "source": [
    "conda create -n env_name\n",
    "\n",
    "conda create -n env_name python = 3.8"
   ]
  },
  {
   "cell_type": "markdown",
   "id": "801398f0",
   "metadata": {},
   "source": [
    "### Activate conda env"
   ]
  },
  {
   "cell_type": "raw",
   "id": "5a3a2c67",
   "metadata": {},
   "source": [
    "conda activate env_name"
   ]
  },
  {
   "cell_type": "markdown",
   "id": "8eb5e757",
   "metadata": {},
   "source": [
    "### Install libraries in Env "
   ]
  },
  {
   "cell_type": "raw",
   "id": "1e406070",
   "metadata": {},
   "source": [
    "conda install library_name\n",
    "\n",
    "conda install -c anaconda pandas"
   ]
  },
  {
   "cell_type": "markdown",
   "id": "24118078",
   "metadata": {},
   "source": [
    "### Deactivate Env"
   ]
  },
  {
   "cell_type": "raw",
   "id": "7f3d943d",
   "metadata": {},
   "source": [
    "conda deactivate"
   ]
  },
  {
   "cell_type": "markdown",
   "id": "7e2b7c2e",
   "metadata": {},
   "source": [
    "### Env list"
   ]
  },
  {
   "cell_type": "raw",
   "id": "e56b489f",
   "metadata": {},
   "source": [
    "conda env list"
   ]
  },
  {
   "cell_type": "markdown",
   "id": "f5d8799a",
   "metadata": {},
   "source": [
    "### Delete conda env "
   ]
  },
  {
   "cell_type": "raw",
   "id": "ce204666",
   "metadata": {},
   "source": [
    "conda env remove -n env_name"
   ]
  },
  {
   "cell_type": "markdown",
   "id": "d69b53c1",
   "metadata": {},
   "source": [
    "### check installed packages"
   ]
  },
  {
   "cell_type": "raw",
   "id": "2a364ede",
   "metadata": {},
   "source": [
    "conda list"
   ]
  }
 ],
 "metadata": {
  "kernelspec": {
   "display_name": "Python 3 (ipykernel)",
   "language": "python",
   "name": "python3"
  },
  "language_info": {
   "codemirror_mode": {
    "name": "ipython",
    "version": 3
   },
   "file_extension": ".py",
   "mimetype": "text/x-python",
   "name": "python",
   "nbconvert_exporter": "python",
   "pygments_lexer": "ipython3",
   "version": "3.9.12"
  },
  "varInspector": {
   "cols": {
    "lenName": 16,
    "lenType": 16,
    "lenVar": 40
   },
   "kernels_config": {
    "python": {
     "delete_cmd_postfix": "",
     "delete_cmd_prefix": "del ",
     "library": "var_list.py",
     "varRefreshCmd": "print(var_dic_list())"
    },
    "r": {
     "delete_cmd_postfix": ") ",
     "delete_cmd_prefix": "rm(",
     "library": "var_list.r",
     "varRefreshCmd": "cat(var_dic_list()) "
    }
   },
   "types_to_exclude": [
    "module",
    "function",
    "builtin_function_or_method",
    "instance",
    "_Feature"
   ],
   "window_display": false
  }
 },
 "nbformat": 4,
 "nbformat_minor": 5
}
